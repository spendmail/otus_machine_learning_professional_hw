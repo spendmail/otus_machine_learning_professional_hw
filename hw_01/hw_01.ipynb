{
 "cells": [
  {
   "metadata": {},
   "cell_type": "markdown",
   "source": [
    "\n",
    "\n",
    "# Домашнее задание\n",
    "## Чем лучше бустить? Тестируем алгоритмы бустинга в бою.\n"
   ]
  },
  {
   "metadata": {},
   "cell_type": "markdown",
   "source": "Скачиваем датасет telco-customer-churn для предсказания оттока пользователей"
  },
  {
   "metadata": {
    "ExecuteTime": {
     "end_time": "2024-08-31T08:17:07.672807Z",
     "start_time": "2024-08-31T08:17:02.365401Z"
    }
   },
   "cell_type": "code",
   "source": "!wget -O WA_Fn-UseC_-Telco-Customer-Churn.csv https://raw.githubusercontent.com/spendmail/otus_machine_learning_professional_hw/master/hw_01/WA_Fn-UseC_-Telco-Customer-Churn.csv",
   "outputs": [
    {
     "name": "stdout",
     "output_type": "stream",
     "text": [
      "--2024-08-31 15:17:02--  https://raw.githubusercontent.com/spendmail/otus_machine_learning_professional_hw/master/hw_01/WA_Fn-UseC_-Telco-Customer-Churn.csv\r\n",
      "Resolving raw.githubusercontent.com (raw.githubusercontent.com)... 2606:50c0:8000::154, 2606:50c0:8002::154, 2606:50c0:8001::154, ...\r\n",
      "Connecting to raw.githubusercontent.com (raw.githubusercontent.com)|2606:50c0:8000::154|:443... connected.\r\n",
      "HTTP request sent, awaiting response... 200 OK\r\n",
      "Length: 977501 (955K) [text/plain]\r\n",
      "Saving to: ‘WA_Fn-UseC_-Telco-Customer-Churn.csv’\r\n",
      "\r\n",
      "WA_Fn-UseC_-Telco-C 100%[===================>] 954.59K   277KB/s    in 3.4s    \r\n",
      "\r\n",
      "2024-08-31 15:17:07 (277 KB/s) - ‘WA_Fn-UseC_-Telco-Customer-Churn.csv’ saved [977501/977501]\r\n",
      "\r\n"
     ]
    }
   ],
   "execution_count": 2
  }
 ],
 "metadata": {
  "accelerator": "GPU",
  "anaconda-cloud": {},
  "colab": {
   "provenance": []
  },
  "gpuClass": "standard",
  "kernelspec": {
   "display_name": "Python 3 (ipykernel)",
   "language": "python",
   "name": "python3"
  },
  "language_info": {
   "codemirror_mode": {
    "name": "ipython",
    "version": 3
   },
   "file_extension": ".py",
   "mimetype": "text/x-python",
   "name": "python",
   "nbconvert_exporter": "python",
   "pygments_lexer": "ipython3",
   "version": "3.11.4"
  }
 },
 "nbformat": 4,
 "nbformat_minor": 4
}
